{
 "cells": [
  {
   "cell_type": "markdown",
   "metadata": {},
   "source": [
    "# Some solutions for the prep workshop"
   ]
  },
  {
   "cell_type": "markdown",
   "metadata": {},
   "source": [
    "## SVD"
   ]
  },
  {
   "cell_type": "code",
   "execution_count": null,
   "metadata": {},
   "outputs": [],
   "source": [
    "def get_pseudo_inv(X):\n",
    "    # Perform SVD on the matrix X\n",
    "    U, S, V_t = svd(X)\n",
    "    print(f'Singular values: {S}\\nU: {U}\\nV_t: {V_t}')\n",
    "\n",
    "    # Calculate Pseudo Inverse\n",
    "    S_inv = np.zeros(X.shape)\n",
    "    for i, s_val in enumerate(S):\n",
    "        S_inv[i, i] = 1 / s_val\n",
    "    \n",
    "    M = (V_t.T @ S_inv.T) @ U.T\n",
    "\n",
    "    return M \n",
    "\n",
    "# Let's test this function\n",
    "X = np.array([[1, 2, 3], [4, 5, 6], [7, 8, 9]])\n",
    "get_pseudo_inv(X)"
   ]
  },
  {
   "cell_type": "code",
   "execution_count": null,
   "metadata": {},
   "outputs": [],
   "source": [
    "sample = iio.imread(uri=\"exercise.png\")\n",
    "\n",
    "fig, ax = plt.subplots()\n",
    "\n",
    "grey_sample = rgb2gray(sample)\n",
    "\n",
    "U, S, V_T = svd(grey_sample, full_matrices=False)\n",
    "S = np.diag(S)\n",
    "fig, ax = plt.subplots(7, 2, figsize=(8, 20))\n",
    "\n",
    "\n",
    "curr_fig = 0\n",
    "for r in [2,4,8,16,32,64,128]:\n",
    "    approx = U[:, :r] @ S[0:r, :r] @ V_T[:r, :]\n",
    "    ax[curr_fig][0].imshow(approx, cmap='gray')\n",
    "    ax[curr_fig][0].set_title(\"k = \"+str(r))\n",
    "    ax[curr_fig, 0].axis('off')\n",
    "    ax[curr_fig][1].set_title(\"Original Image\")\n",
    "    ax[curr_fig][1].imshow(grey_sample, cmap='gray')\n",
    "    ax[curr_fig, 1].axis('off')\n",
    "    curr_fig += 1\n",
    "plt.show()"
   ]
  },
  {
   "cell_type": "markdown",
   "metadata": {},
   "source": [
    "## Lyapunov"
   ]
  },
  {
   "cell_type": "code",
   "execution_count": null,
   "metadata": {},
   "outputs": [],
   "source": [
    "# Import Libraries\n",
    "import numpy as np\n",
    "import matplotlib.pyplot as plt\n",
    "\n",
    "def logistic_map(x, r):\n",
    "    \"\"\"Logistic map function\"\"\"\n",
    "    return r * x * (1 - x)\n",
    "\n",
    "def lyapunov_exponent(r, x0, n_iterations, n_discard=100):\n",
    "    \"\"\"Calculate Lyapunov exponent using the direct method\"\"\"\n",
    "    x = x0\n",
    "    le = 0.0\n",
    "    delta = 1e-10  # Small perturbation\n",
    "\n",
    "    val = []\n",
    "    # Discard initial transients\n",
    "    for _ in range(n_discard):\n",
    "      x = logistic_map(x, r)\n",
    "\n",
    "    # Main loop for Lyapunov exponent calculation\n",
    "    for i in range(n_iterations):\n",
    "      x_perturbed = x + delta\n",
    "      \n",
    "      # Evolve both trajectories one step\n",
    "      x_new = logistic_map(x, r)\n",
    "      x_perturbed_new = logistic_map(x_perturbed, r)\n",
    "      \n",
    "      # Calculate new separation\n",
    "      delta_new = abs(x_perturbed_new - x_new)\n",
    "      \n",
    "      # Update Lyapunov exponent\n",
    "      le += np.log(abs(delta_new / delta))\n",
    "      \n",
    "      # Renormalize\n",
    "      x = x_new\n",
    "      delta = delta_new / abs(delta_new) * delta\n",
    "      if i >= n_iterations - 300:\n",
    "        val.append(x)\n",
    "    return [le / n_iterations, val]\n",
    "\n",
    "# Parameters\n",
    "r_range = np.linspace(2.5, 4.0, 1000)\n",
    "x0 = 0.5\n",
    "n_iterations = 10000\n",
    "n_discard = 100\n",
    "\n",
    "# Calculate Lyapunov exponents for different r values\n",
    "data = [lyapunov_exponent(r, x0, n_iterations, n_discard) for r in r_range]\n",
    "lyapunov_exponents = [d[0] for d in data]\n",
    "x_vals = [d[1] for d in data]\n",
    "\n",
    "# Plot the results\n",
    "mosaic_layout = '''\n",
    "AAAA\n",
    "AAAA\n",
    "AAAA\n",
    "....\n",
    "BBBB\n",
    "BBBB\n",
    "BBBB\n",
    "'''\n",
    "\n",
    "fig, ax = plt.subplot_mosaic(mosaic_layout, layout = 'constrained', sharex = True)\n",
    "ax['A'].plot(r_range, lyapunov_exponents)\n",
    "ax['B'].set_xlabel('r')\n",
    "ax['A'].set_ylabel('$\\lambda$', rotation = 0, labelpad = 10)\n",
    "ax['B'].plot(r_range, x_vals, 'k,', alpha=0.25)\n",
    "\n",
    "ax['B'].set_ylabel('$x_{n+1}$', rotation = 0, labelpad = 20)\n",
    "\n",
    "ax['A'].grid(True)\n",
    "ax['B'].grid(True)\n",
    "plt.show()"
   ]
  }
 ],
 "metadata": {
  "language_info": {
   "name": "python"
  }
 },
 "nbformat": 4,
 "nbformat_minor": 2
}
